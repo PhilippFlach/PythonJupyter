{
 "cells": [
  {
   "cell_type": "code",
   "execution_count": 20,
   "id": "leading-costs",
   "metadata": {},
   "outputs": [],
   "source": [
    "from scipy.stats import norm\n",
    "import math"
   ]
  },
  {
   "cell_type": "code",
   "execution_count": 2,
   "id": "opponent-tract",
   "metadata": {},
   "outputs": [],
   "source": [
    "# First define useful functions\n",
    "# probabilities a normal lies in an interval"
   ]
  },
  {
   "cell_type": "code",
   "execution_count": 3,
   "id": "boolean-disabled",
   "metadata": {},
   "outputs": [],
   "source": [
    "# the normal cdf _is_ the probability the variable is below a threshold\n",
    "normal_probability_below = norm.cdf"
   ]
  },
  {
   "cell_type": "code",
   "execution_count": 4,
   "id": "retained-passing",
   "metadata": {},
   "outputs": [],
   "source": [
    "# it's above the threshold if it's not below the threshold"
   ]
  },
  {
   "cell_type": "code",
   "execution_count": 5,
   "id": "elder-allah",
   "metadata": {},
   "outputs": [],
   "source": [
    "def normal_probability_above(lo, mu=0, sigma=1):\n",
    "    return 1 - norm.cdf(lo, mu, sigma)"
   ]
  },
  {
   "cell_type": "code",
   "execution_count": 6,
   "id": "broke-trailer",
   "metadata": {},
   "outputs": [],
   "source": [
    "# it's between if it's less than hi, but not less than lo\n",
    "def normal_probability_between(lo, hi, mu=0, sigma=1):\n",
    "    return norm.cdf(hi, mu, sigma) - norm.cdf(lo, mu, sigma)"
   ]
  },
  {
   "cell_type": "code",
   "execution_count": 7,
   "id": "local-video",
   "metadata": {},
   "outputs": [],
   "source": [
    "# it's outside if it's not between\n",
    "def normal_probability_outside(lo, hi, mu=0, sigma=1):\n",
    "    return 1 - normal_probability_between(lo, hi, mu, sigma)"
   ]
  },
  {
   "cell_type": "code",
   "execution_count": 8,
   "id": "latter-foundation",
   "metadata": {},
   "outputs": [],
   "source": [
    "#  normal bounds"
   ]
  },
  {
   "cell_type": "code",
   "execution_count": 9,
   "id": "subject-contractor",
   "metadata": {},
   "outputs": [],
   "source": [
    "def normal_upper_bound(probability, mu=0, sigma=1):\n",
    "    \"\"\"returns the z for which P(Z <= z) = probability\"\"\"\n",
    "    return norm.ppf(probability, mu, sigma)"
   ]
  },
  {
   "cell_type": "code",
   "execution_count": 10,
   "id": "naked-transcription",
   "metadata": {},
   "outputs": [
    {
     "data": {
      "text/plain": [
       "1.959963984540054"
      ]
     },
     "execution_count": 10,
     "metadata": {},
     "output_type": "execute_result"
    }
   ],
   "source": [
    "z = normal_upper_bound(0.975)\n",
    "z"
   ]
  },
  {
   "cell_type": "code",
   "execution_count": 11,
   "id": "fancy-letters",
   "metadata": {},
   "outputs": [],
   "source": [
    "def normal_lower_bound(probability, mu=0, sigma=1):\n",
    "    \"\"\"returns the z for which P(Z >= z) = probability\"\"\"\n",
    "    return norm.ppf(1 - probability, mu, sigma)"
   ]
  },
  {
   "cell_type": "code",
   "execution_count": 12,
   "id": "brief-madison",
   "metadata": {},
   "outputs": [
    {
     "data": {
      "text/plain": [
       "1.959963984540054"
      ]
     },
     "execution_count": 12,
     "metadata": {},
     "output_type": "execute_result"
    }
   ],
   "source": [
    "w = normal_lower_bound(0.025)\n",
    "w"
   ]
  },
  {
   "cell_type": "code",
   "execution_count": 13,
   "id": "green-melissa",
   "metadata": {},
   "outputs": [],
   "source": [
    "def normal_two_sided_bounds(probability, mu=0, sigma=1):\n",
    "    \"\"\"returns the symmetric (about the mean) bounds\n",
    "    that contain the specified probability\"\"\"\n",
    "    tail_probability = (1 - probability) / 2\n",
    "\n",
    "    # upper bound should have tail_probability above it\n",
    "    upper_bound = normal_lower_bound(tail_probability, mu, sigma)\n",
    "\n",
    "    # lower bound should have tail_probability below it\n",
    "    lower_bound = normal_upper_bound(tail_probability, mu, sigma)\n",
    "\n",
    "    return lower_bound, upper_bound"
   ]
  },
  {
   "cell_type": "code",
   "execution_count": 14,
   "id": "static-restoration",
   "metadata": {},
   "outputs": [
    {
     "data": {
      "text/plain": [
       "(-1.959963984540054, 1.959963984540054)"
      ]
     },
     "execution_count": 14,
     "metadata": {},
     "output_type": "execute_result"
    }
   ],
   "source": [
    "u = normal_two_sided_bounds(0.95) \n",
    "u"
   ]
  },
  {
   "cell_type": "code",
   "execution_count": 15,
   "id": "worth-collectible",
   "metadata": {},
   "outputs": [],
   "source": [
    "# Unser Test wir die Anzahl von n Münzwürfen beinhalten,\n",
    "# wobei wir in X zählen, wie oft Kopf fällt. Jeder Münzwurf ist ein Bernoulli-Experiment,\n",
    "# daher ist X eine binomialverteilte Zufallsvariable B (n,p), \n",
    "# die folgenden Erwartungswert und Varianz hat:"
   ]
  },
  {
   "cell_type": "code",
   "execution_count": 16,
   "id": "automated-brave",
   "metadata": {},
   "outputs": [],
   "source": [
    "def normal_approximation_to_binomial(n, p):\n",
    "    \"\"\"finds mu and sigma corresponding to a Binomial(n, p)\"\"\"\n",
    "    mu = p * n\n",
    "    sigma = math.sqrt(p * (1 - p) * n)\n",
    "    return mu, sigma"
   ]
  },
  {
   "cell_type": "code",
   "execution_count": 17,
   "id": "occupied-silicon",
   "metadata": {},
   "outputs": [],
   "source": [
    "# Experiment: Werfe Münze n = 1000 Mal, Annahme p = 0.5 (ausgewogene Münze)\n",
    "# So sind die erwarten Werte wie folgt:"
   ]
  },
  {
   "cell_type": "code",
   "execution_count": 22,
   "id": "close-dutch",
   "metadata": {},
   "outputs": [
    {
     "data": {
      "text/plain": [
       "(500.0, 15.811388300841896)"
      ]
     },
     "execution_count": 22,
     "metadata": {},
     "output_type": "execute_result"
    }
   ],
   "source": [
    "mu_0, sigma_0 = normal_approximation_to_binomial(1000, 0.5)\n",
    "mu_0, sigma_0\n"
   ]
  },
  {
   "cell_type": "code",
   "execution_count": 23,
   "id": "married-roman",
   "metadata": {},
   "outputs": [],
   "source": [
    "# Beispiel mit zweiseitigem Test:Betrachten wir einen Test, der H0 verwirft, falls X ausserhalb der folgenden Grenzen liegt:\n",
    "# Signifikanzniveau = 5%"
   ]
  },
  {
   "cell_type": "code",
   "execution_count": 37,
   "id": "measured-degree",
   "metadata": {},
   "outputs": [
    {
     "data": {
      "text/plain": [
       "(469.010248386422, 530.9897516135779)"
      ]
     },
     "execution_count": 37,
     "metadata": {},
     "output_type": "execute_result"
    }
   ],
   "source": [
    "lo, hi  = normal_two_sided_bounds(0.95, 500.0, 15.8113883) \n",
    "lo, hi "
   ]
  },
  {
   "cell_type": "code",
   "execution_count": 25,
   "id": "worst-convergence",
   "metadata": {},
   "outputs": [],
   "source": [
    "# Wir sind nun an der Sensitivität des Tests interessiert.\n",
    "# = Wahrscheinlichkeit, keinen Fehler 2. Art zu begehen.\n",
    "# Um die Sensitivität zu bestimmen,  braucht es die Alternativ-Hypothese H1\n",
    "# Beispiel: H1: p = 0.55 (statt H0: p = 0.5) d.h. Kopf kommt etwas häufiger"
   ]
  },
  {
   "cell_type": "code",
   "execution_count": 26,
   "id": "secret-pricing",
   "metadata": {},
   "outputs": [],
   "source": [
    "# 95%- Grenze basierend auf der Annahme H0 p = 0.5"
   ]
  },
  {
   "cell_type": "code",
   "execution_count": 32,
   "id": "saving-characterization",
   "metadata": {},
   "outputs": [
    {
     "data": {
      "text/plain": [
       "(469.010248386422, 530.9897516135779)"
      ]
     },
     "execution_count": 32,
     "metadata": {},
     "output_type": "execute_result"
    }
   ],
   "source": [
    "lo, hi = normal_two_sided_bounds(0.95, 500.0, 15.8113883)\n",
    "lo, hi"
   ]
  },
  {
   "cell_type": "code",
   "execution_count": 28,
   "id": "ruled-freedom",
   "metadata": {},
   "outputs": [],
   "source": [
    "# 95%- Grenze  basierend auf der Annahme H1 p = 0.55"
   ]
  },
  {
   "cell_type": "code",
   "execution_count": 33,
   "id": "industrial-prescription",
   "metadata": {},
   "outputs": [
    {
     "data": {
      "text/plain": [
       "(550.0, 15.732132722552274)"
      ]
     },
     "execution_count": 33,
     "metadata": {},
     "output_type": "execute_result"
    }
   ],
   "source": [
    "mu_1, sigma_1 = normal_approximation_to_binomial(1000, 0.55)\n",
    "mu_1, sigma_1"
   ]
  },
  {
   "cell_type": "code",
   "execution_count": 30,
   "id": "expected-allocation",
   "metadata": {},
   "outputs": [],
   "source": [
    "# bei einem Fehler 2. Art liegt H1 vor, aber wir verwerfen J' irrtümlicherweise nicht\n",
    "# was passiert, falls X immer noch im Intervall (469,530) liegt"
   ]
  },
  {
   "cell_type": "code",
   "execution_count": 34,
   "id": "furnished-plasma",
   "metadata": {},
   "outputs": [
    {
     "data": {
      "text/plain": [
       "0.11345221888145308"
      ]
     },
     "execution_count": 34,
     "metadata": {},
     "output_type": "execute_result"
    }
   ],
   "source": [
    "type_2_probility = normal_probability_between (lo, hi, mu_1, sigma_1)\n",
    "type_2_probility"
   ]
  },
  {
   "cell_type": "code",
   "execution_count": 36,
   "id": "white-estimate",
   "metadata": {},
   "outputs": [
    {
     "data": {
      "text/plain": [
       "0.8865477811185469"
      ]
     },
     "execution_count": 36,
     "metadata": {},
     "output_type": "execute_result"
    }
   ],
   "source": [
    "power_of_test = 1 - type_2_probility\n",
    "power_of_test"
   ]
  },
  {
   "cell_type": "code",
   "execution_count": 38,
   "id": "surface-leave",
   "metadata": {},
   "outputs": [],
   "source": [
    "# Und nun ein Einseitiger Test\n",
    "# Annahme: Münze neigt nicht dazu, übermässig auf Kopf zu fallen, d.h. p <= 0.5"
   ]
  },
  {
   "cell_type": "code",
   "execution_count": 39,
   "id": "pretty-money",
   "metadata": {},
   "outputs": [
    {
     "data": {
      "text/plain": [
       "526.0074193937779"
      ]
     },
     "execution_count": 39,
     "metadata": {},
     "output_type": "execute_result"
    }
   ],
   "source": [
    "hi = normal_upper_bound(0.95, mu_0, sigma_0 )\n",
    "hi"
   ]
  },
  {
   "cell_type": "code",
   "execution_count": 40,
   "id": "north-desperate",
   "metadata": {},
   "outputs": [],
   "source": [
    "# 526 ist kleiner als 531, weil wir mehr Wahrscheinlichkeit im oberen Bereich benötigen"
   ]
  },
  {
   "cell_type": "code",
   "execution_count": 41,
   "id": "dangerous-housing",
   "metadata": {},
   "outputs": [
    {
     "data": {
      "text/plain": [
       "0.06362100214225695"
      ]
     },
     "execution_count": 41,
     "metadata": {},
     "output_type": "execute_result"
    }
   ],
   "source": [
    "type_2_probility = normal_probability_below (hi, mu_1, sigma_1)\n",
    "type_2_probility"
   ]
  },
  {
   "cell_type": "code",
   "execution_count": 42,
   "id": "recent-nutrition",
   "metadata": {},
   "outputs": [
    {
     "data": {
      "text/plain": [
       "0.936378997857743"
      ]
     },
     "execution_count": 42,
     "metadata": {},
     "output_type": "execute_result"
    }
   ],
   "source": [
    "power_of_test = 1 - type_2_probility\n",
    "power_of_test"
   ]
  },
  {
   "cell_type": "code",
   "execution_count": 43,
   "id": "interested-aging",
   "metadata": {},
   "outputs": [],
   "source": [
    "# Das 2. Beispiel ist ein aussagekräftigerer Test, \n",
    "# weil er nicht länger H0 verwirft, wenn X unterhalb von 469 liegt (was sehr unwahrscheinlich ist, wenn H1 zutrifft)\n",
    "# Der 2. Test verwirft H0 schon früher, und zwar wenn X zwischen 526 und 531 liegt\n",
    "# Dies ist besser, weil es einigermassen wahrscheinlich ist, wenn H1 zutrifft.\n"
   ]
  },
  {
   "cell_type": "code",
   "execution_count": 45,
   "id": "attractive-pregnancy",
   "metadata": {},
   "outputs": [],
   "source": [
    "# Test mit Auswertung des P-Wertes"
   ]
  },
  {
   "cell_type": "code",
   "execution_count": 46,
   "id": "marked-seafood",
   "metadata": {},
   "outputs": [],
   "source": [
    "def two_sided_p_value(x, mu=0, sigma=1):\n",
    "    if x >= mu:\n",
    "        # if x is greater than the mean, the tail is above x\n",
    "        return 2 * normal_probability_above(x, mu, sigma)\n",
    "    else:\n",
    "        # if x is less than the mean, the tail is below x\n",
    "        return 2 * normal_probability_below(x, mu, sigma)\n"
   ]
  },
  {
   "cell_type": "code",
   "execution_count": 47,
   "id": "athletic-signature",
   "metadata": {},
   "outputs": [
    {
     "data": {
      "text/plain": [
       "(469.0102483847719, 530.9897516152281)"
      ]
     },
     "execution_count": 47,
     "metadata": {},
     "output_type": "execute_result"
    }
   ],
   "source": [
    "u = normal_two_sided_bounds(0.95, mu_0, sigma_0 ) \n",
    "u"
   ]
  },
  {
   "cell_type": "code",
   "execution_count": 50,
   "id": "sitting-august",
   "metadata": {},
   "outputs": [
    {
     "data": {
      "text/plain": [
       "0.003927643541949966"
      ]
     },
     "execution_count": 50,
     "metadata": {},
     "output_type": "execute_result"
    }
   ],
   "source": [
    "probability_with_uncorrected_limit = normal_probability_between (530, 531, mu_0, sigma_0)\n",
    "probability_with_uncorrected_limit"
   ]
  },
  {
   "cell_type": "code",
   "execution_count": 52,
   "id": "functional-gambling",
   "metadata": {},
   "outputs": [
    {
     "data": {
      "text/plain": [
       "0.00417251711890243"
      ]
     },
     "execution_count": 52,
     "metadata": {},
     "output_type": "execute_result"
    }
   ],
   "source": [
    "probability_with_corrected_limit = normal_probability_between (529.5, 530.5, mu_0, sigma_0)\n",
    "probability_with_corrected_limit"
   ]
  },
  {
   "cell_type": "code",
   "execution_count": 53,
   "id": "professional-slovak",
   "metadata": {},
   "outputs": [],
   "source": [
    "# 0.00417 ist höher als 0.0039, daher Grenze 529.5 nehmen, d.h. dies ist eine bessere Schätzung für  530 Mal \"Kopf\"\n",
    "# Kontinuitätskorrektur, en.wikipedia.org/Continuity_correction"
   ]
  },
  {
   "cell_type": "code",
   "execution_count": 54,
   "id": "continuing-conservative",
   "metadata": {},
   "outputs": [
    {
     "data": {
      "text/plain": [
       "0.06207721579598835"
      ]
     },
     "execution_count": 54,
     "metadata": {},
     "output_type": "execute_result"
    }
   ],
   "source": [
    "p_value = two_sided_p_value(529.5, mu_0, sigma_0)\n",
    "p_value"
   ]
  },
  {
   "cell_type": "code",
   "execution_count": null,
   "id": "generous-grocery",
   "metadata": {},
   "outputs": [],
   "source": []
  }
 ],
 "metadata": {
  "kernelspec": {
   "display_name": "Python 3",
   "language": "python",
   "name": "python3"
  },
  "language_info": {
   "codemirror_mode": {
    "name": "ipython",
    "version": 3
   },
   "file_extension": ".py",
   "mimetype": "text/x-python",
   "name": "python",
   "nbconvert_exporter": "python",
   "pygments_lexer": "ipython3",
   "version": "3.7.5"
  }
 },
 "nbformat": 4,
 "nbformat_minor": 5
}
