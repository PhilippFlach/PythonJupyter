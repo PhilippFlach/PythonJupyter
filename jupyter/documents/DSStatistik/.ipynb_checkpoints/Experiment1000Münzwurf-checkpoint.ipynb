{
 "cells": [
  {
   "cell_type": "code",
   "execution_count": 1,
   "id": "documented-throw",
   "metadata": {},
   "outputs": [],
   "source": [
    "import math, random"
   ]
  },
  {
   "cell_type": "code",
   "execution_count": 2,
   "id": "precious-minimum",
   "metadata": {},
   "outputs": [],
   "source": [
    "def run_experiment():\n",
    "    \"\"\"flip a fair coin 1000 times, True = heads, False = tails\"\"\"\n",
    "    return [random.random() < 0.5 for _ in range(1000)]"
   ]
  },
  {
   "cell_type": "code",
   "execution_count": null,
   "id": "rocky-tourist",
   "metadata": {},
   "outputs": [],
   "source": [
    " # 5% Konfidenzintervall bei n = 1000 Würfen, p = 0.5 ist (469, 531)"
   ]
  },
  {
   "cell_type": "code",
   "execution_count": 3,
   "id": "authorized-transfer",
   "metadata": {},
   "outputs": [],
   "source": [
    "def reject_fairness(experiment):\n",
    "    \"\"\"using the 5% significance levels\"\"\"\n",
    "    num_heads = len([flip for flip in experiment if flip])\n",
    "    return num_heads < 469 or num_heads > 531"
   ]
  },
  {
   "cell_type": "code",
   "execution_count": 16,
   "id": "quick-worship",
   "metadata": {},
   "outputs": [],
   "source": [
    "random.seed(0)"
   ]
  },
  {
   "cell_type": "code",
   "execution_count": 44,
   "id": "thorough-claim",
   "metadata": {},
   "outputs": [],
   "source": [
    "experiments = [run_experiment() for _ in range(1000)]"
   ]
  },
  {
   "cell_type": "code",
   "execution_count": 45,
   "id": "rocky-luther",
   "metadata": {},
   "outputs": [],
   "source": [
    "num_rejections = len([experiment\n",
    "                     for experiment in experiments\n",
    "                     if reject_fairness(experiment)])"
   ]
  },
  {
   "cell_type": "code",
   "execution_count": 46,
   "id": "intensive-disney",
   "metadata": {},
   "outputs": [
    {
     "data": {
      "text/plain": [
       "35"
      ]
     },
     "execution_count": 46,
     "metadata": {},
     "output_type": "execute_result"
    }
   ],
   "source": [
    "num_rejections"
   ]
  },
  {
   "cell_type": "code",
   "execution_count": null,
   "id": "cathedral-austin",
   "metadata": {},
   "outputs": [],
   "source": [
    "# Die Zahlen der fälschlicherweise zurückgewiesenen Experimente ist normalerweise um die 5% (ca. 50 von 1000)"
   ]
  },
  {
   "cell_type": "code",
   "execution_count": 20,
   "id": "starting-classics",
   "metadata": {},
   "outputs": [],
   "source": [
    "# Exkurs: 5% Konfidenzintervall bei n = 1000 Würfen, p = 0.5 berechnen"
   ]
  },
  {
   "cell_type": "code",
   "execution_count": 21,
   "id": "associate-arbitration",
   "metadata": {},
   "outputs": [],
   "source": [
    "from scipy.stats import norm"
   ]
  },
  {
   "cell_type": "code",
   "execution_count": 23,
   "id": "viral-elements",
   "metadata": {},
   "outputs": [],
   "source": [
    "def normal_two_sided_bounds(probability, mu=0, sigma=1):\n",
    "    \"\"\"returns the symmetric (about the mean) bounds\n",
    "    that contain the specified probability\"\"\"\n",
    "    tail_probability = (1 - probability) / 2\n",
    "\n",
    "    # upper bound should have tail_probability above it\n",
    "    upper_bound = norm.ppf(1 - tail_probability, mu, sigma)\n",
    "\n",
    "    # lower bound should have tail_probability below it\n",
    "    lower_bound = norm.ppf(tail_probability, mu, sigma)\n",
    "\n",
    "    return lower_bound, upper_bound"
   ]
  },
  {
   "cell_type": "code",
   "execution_count": 24,
   "id": "australian-sacramento",
   "metadata": {},
   "outputs": [],
   "source": [
    "def normal_approximation_to_binomial(n, p):\n",
    "    \"\"\"finds mu and sigma corresponding to a Binomial(n, p)\"\"\"\n",
    "    mu = p * n\n",
    "    sigma = math.sqrt(p * (1 - p) * n)\n",
    "    return mu, sigma"
   ]
  },
  {
   "cell_type": "code",
   "execution_count": 25,
   "id": "pointed-promise",
   "metadata": {},
   "outputs": [],
   "source": [
    "mu_0, sigma_0 = normal_approximation_to_binomial(1000, 0.5)"
   ]
  },
  {
   "cell_type": "code",
   "execution_count": 26,
   "id": "suspected-defensive",
   "metadata": {},
   "outputs": [
    {
     "data": {
      "text/plain": [
       "(469.0102483847719, 530.9897516152281)"
      ]
     },
     "execution_count": 26,
     "metadata": {},
     "output_type": "execute_result"
    }
   ],
   "source": [
    "lo, hi  = normal_two_sided_bounds(0.95, mu_0, sigma_0) \n",
    "lo, hi "
   ]
  },
  {
   "cell_type": "code",
   "execution_count": null,
   "id": "innocent-requirement",
   "metadata": {},
   "outputs": [],
   "source": []
  }
 ],
 "metadata": {
  "kernelspec": {
   "display_name": "Python 3",
   "language": "python",
   "name": "python3"
  },
  "language_info": {
   "codemirror_mode": {
    "name": "ipython",
    "version": 3
   },
   "file_extension": ".py",
   "mimetype": "text/x-python",
   "name": "python",
   "nbconvert_exporter": "python",
   "pygments_lexer": "ipython3",
   "version": "3.7.5"
  }
 },
 "nbformat": 4,
 "nbformat_minor": 5
}
