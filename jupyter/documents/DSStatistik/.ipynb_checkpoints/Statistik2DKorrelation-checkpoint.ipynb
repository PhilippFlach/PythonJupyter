{
 "cells": [
  {
   "cell_type": "code",
   "execution_count": 2,
   "id": "f157329d",
   "metadata": {},
   "outputs": [],
   "source": [
    "from collections import Counter\n",
    "import numpy as np\n",
    "import math"
   ]
  },
  {
   "cell_type": "code",
   "execution_count": 3,
   "id": "00251cf0",
   "metadata": {},
   "outputs": [],
   "source": [
    "num_friends = [100,49,41,40,25,21,21,19,19,18,18,16,15,15,15,15,14,14,13,13,13,13,12,12,11,10,10,10,10,10,10,10,10,10,10,10,10,10,10,10,9,9,9,9,9,9,9,9,9,9,9,9,9,9,9,9,9,9,8,8,8,8,8,8,8,8,8,8,8,8,8,7,7,7,7,7,7,7,7,7,7,7,7,7,7,7,6,6,6,6,6,6,6,6,6,6,6,6,6,6,6,6,6,6,6,6,6,6,5,5,5,5,5,5,5,5,5,5,5,5,5,5,5,5,5,4,4,4,4,4,4,4,4,4,4,4,4,4,4,4,4,4,4,4,4,3,3,3,3,3,3,3,3,3,3,3,3,3,3,3,3,3,3,3,3,2,2,2,2,2,2,2,2,2,2,2,2,2,2,2,2,2,1,1,1,1,1,1,1,1,1,1,1,1,1,1,1,1,1,1,1,1,1,1]\n",
    "daily_minutes = [1,68.77,51.25,52.08,38.36,44.54,57.13,51.4,41.42,31.22,34.76,54.01,38.79,47.59,49.1,27.66,41.03,36.73,48.65,28.12,46.62,35.57,32.98,35,26.07,23.77,39.73,40.57,31.65,31.21,36.32,20.45,21.93,26.02,27.34,23.49,46.94,30.5,33.8,24.23,21.4,27.94,32.24,40.57,25.07,19.42,22.39,18.42,46.96,23.72,26.41,26.97,36.76,40.32,35.02,29.47,30.2,31,38.11,38.18,36.31,21.03,30.86,36.07,28.66,29.08,37.28,15.28,24.17,22.31,30.17,25.53,19.85,35.37,44.6,17.23,13.47,26.33,35.02,32.09,24.81,19.33,28.77,24.26,31.98,25.73,24.86,16.28,34.51,15.23,39.72,40.8,26.06,35.76,34.76,16.13,44.04,18.03,19.65,32.62,35.59,39.43,14.18,35.24,40.13,41.82,35.45,36.07,43.67,24.61,20.9,21.9,18.79,27.61,27.21,26.61,29.77,20.59,27.53,13.82,33.2,25,33.1,36.65,18.63,14.87,22.2,36.81,25.53,24.62,26.25,18.21,28.08,19.42,29.79,32.8,35.99,28.32,27.79,35.88,29.06,36.28,14.1,36.63,37.49,26.9,18.58,38.48,24.48,18.95,33.55,14.24,29.04,32.51,25.63,22.22,19,32.73,15.16,13.9,27.2,32.01,29.27,33,13.74,20.42,27.32,18.23,35.35,28.48,9.08,24.62,20.12,35.26,19.92,31.02,16.49,12.16,30.7,31.22,34.65,13.13,27.51,33.2,31.57,14.1,33.42,17.44,10.12,24.42,9.82,23.39,30.93,15.03,21.67,31.09,33.29,22.61,26.89,23.48,8.38,27.81,32.35,23.84]\n"
   ]
  },
  {
   "cell_type": "code",
   "execution_count": 4,
   "id": "7b29ed73",
   "metadata": {},
   "outputs": [
    {
     "data": {
      "text/plain": [
       "array([[1.        , 0.24736957],\n",
       "       [0.24736957, 1.        ]])"
      ]
     },
     "execution_count": 4,
     "metadata": {},
     "output_type": "execute_result"
    }
   ],
   "source": [
    "korrelationskoeffizient = np.corrcoef(num_friends, daily_minutes)\n",
    "korrelationskoeffizient"
   ]
  },
  {
   "cell_type": "code",
   "execution_count": 5,
   "id": "d51e6869",
   "metadata": {},
   "outputs": [],
   "source": [
    "from matplotlib import pyplot as plt"
   ]
  },
  {
   "cell_type": "code",
   "execution_count": 7,
   "id": "eeeb14fe",
   "metadata": {},
   "outputs": [
    {
     "data": {
      "text/plain": [
       "<function matplotlib.pyplot.show(close=None, block=None)>"
      ]
     },
     "execution_count": 7,
     "metadata": {},
     "output_type": "execute_result"
    },
    {
     "data": {
      "image/png": "[encoded data removed]",
      "text/plain": [
       "<Figure size 432x288 with 1 Axes>"
      ]
     },
     "metadata": {
      "needs_background": "light"
     },
     "output_type": "display_data"
    }
   ],
   "source": [
    "plt.scatter(num_friends, daily_minutes)\n",
    "plt.title(\"Correlation with Outlier\")\n",
    "plt.ylabel(\"minutes per day\")\n",
    "plt.xlabel(\"number of friends\")\n",
    "plt.show"
   ]
  },
  {
   "cell_type": "code",
   "execution_count": 9,
   "id": "d2f424b7",
   "metadata": {},
   "outputs": [
    {
     "data": {
      "text/plain": [
       "0"
      ]
     },
     "execution_count": 9,
     "metadata": {},
     "output_type": "execute_result"
    }
   ],
   "source": [
    "num_friends_index_wo_100_vorkommt = num_friends.index(100)\n",
    "num_friends_index_wo_100_vorkommt"
   ]
  },
  {
   "cell_type": "code",
   "execution_count": 10,
   "id": "7187818e",
   "metadata": {},
   "outputs": [],
   "source": [
    "# Daten neu erstellen, dieses Mal ohne den Ausreisser"
   ]
  },
  {
   "cell_type": "code",
   "execution_count": 12,
   "id": "57d36a09",
   "metadata": {},
   "outputs": [],
   "source": [
    "outlier = num_friends_index_wo_100_vorkommt"
   ]
  },
  {
   "cell_type": "code",
   "execution_count": 13,
   "id": "bfb85509",
   "metadata": {},
   "outputs": [],
   "source": [
    "num_friends_good = [x\n",
    "                   for i, x in enumerate(num_friends)\n",
    "                   if i != outlier]"
   ]
  },
  {
   "cell_type": "code",
   "execution_count": 14,
   "id": "9a751286",
   "metadata": {},
   "outputs": [],
   "source": [
    "daily_minutes_good = [x\n",
    "                   for i, x in enumerate(daily_minutes)\n",
    "                   if i != outlier]"
   ]
  },
  {
   "cell_type": "code",
   "execution_count": 15,
   "id": "b8936731",
   "metadata": {},
   "outputs": [
    {
     "data": {
      "text/plain": [
       "array([[1.        , 0.57367921],\n",
       "       [0.57367921, 1.        ]])"
      ]
     },
     "execution_count": 15,
     "metadata": {},
     "output_type": "execute_result"
    }
   ],
   "source": [
    "korrelationskoeffizient = np.corrcoef(num_friends_good, daily_minutes_good)\n",
    "korrelationskoeffizient"
   ]
  },
  {
   "cell_type": "code",
   "execution_count": 20,
   "id": "e1594657",
   "metadata": {},
   "outputs": [
    {
     "data": {
      "text/plain": [
       "<function matplotlib.pyplot.show(close=None, block=None)>"
      ]
     },
     "execution_count": 20,
     "metadata": {},
     "output_type": "execute_result"
    },
    {
     "data": {
      "image/png": "[encoded data removed]",
      "text/plain": [
       "<Figure size 432x288 with 1 Axes>"
      ]
     },
     "metadata": {
      "needs_background": "light"
     },
     "output_type": "display_data"
    }
   ],
   "source": [
    "plt.scatter(num_friends_good, daily_minutes_good)\n",
    "plt.title(\"Correlation without Outlier\")\n",
    "plt.ylabel(\"minutes per day\")\n",
    "plt.xlabel(\"number of friends\")\n",
    "\n",
    "plt.show"
   ]
  },
  {
   "cell_type": "code",
   "execution_count": 29,
   "id": "1b39fa7f",
   "metadata": {},
   "outputs": [
    {
     "data": {
      "text/plain": [
       "(0.903865945605871, 22.947552413468994)"
      ]
     },
     "execution_count": 29,
     "metadata": {},
     "output_type": "execute_result"
    }
   ],
   "source": [
    "m, b = np.polyfit(num_friends_good, daily_minutes_good, 1)\n",
    "m, b"
   ]
  },
  {
   "cell_type": "code",
   "execution_count": 30,
   "id": "e7d6d869",
   "metadata": {},
   "outputs": [
    {
     "data": {
      "image/png": "[encoded data removed]",
      "text/plain": [
       "<Figure size 432x288 with 1 Axes>"
      ]
     },
     "metadata": {
      "needs_background": "light"
     },
     "output_type": "display_data"
    }
   ],
   "source": [
    "plt.scatter(num_friends_good, daily_minutes_good)\n",
    "plt.title(\"Correlation without Outlier\")\n",
    "plt.ylabel(\"minutes per day\")\n",
    "plt.xlabel(\"number of friends\")\n",
    "axes = plt.gca()\n",
    "X_plot = np.linspace(axes.get_xlim()[0],axes.get_xlim()[1],100)\n",
    "plt.plot(X_plot, m*X_plot + b, '-', color='red')\n",
    "plt.show()"
   ]
  },
  {
   "cell_type": "code",
   "execution_count": null,
   "id": "c9d9fa7b",
   "metadata": {},
   "outputs": [],
   "source": []
  }
 ],
 "metadata": {
  "kernelspec": {
   "display_name": "Python 3",
   "language": "python",
   "name": "python3"
  },
  "language_info": {
   "codemirror_mode": {
    "name": "ipython",
    "version": 3
   },
   "file_extension": ".py",
   "mimetype": "text/x-python",
   "name": "python",
   "nbconvert_exporter": "python",
   "pygments_lexer": "ipython3",
   "version": "3.7.5"
  }
 },
 "nbformat": 4,
 "nbformat_minor": 5
}
