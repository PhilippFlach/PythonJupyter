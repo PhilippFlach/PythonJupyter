{
 "cells": [
  {
   "cell_type": "code",
   "execution_count": 1,
   "id": "computational-denver",
   "metadata": {},
   "outputs": [],
   "source": [
    "from sympy import *"
   ]
  },
  {
   "cell_type": "code",
   "execution_count": 2,
   "id": "offshore-hopkins",
   "metadata": {},
   "outputs": [],
   "source": [
    "x, y = symbols (\"x, y\", real=True)"
   ]
  },
  {
   "cell_type": "code",
   "execution_count": 3,
   "id": "attached-chosen",
   "metadata": {},
   "outputs": [],
   "source": [
    "z = x + y*I"
   ]
  },
  {
   "cell_type": "code",
   "execution_count": 4,
   "id": "foreign-graphic",
   "metadata": {},
   "outputs": [],
   "source": [
    "pol = z**2 + (1+I)*z + (6 + 18 * I)"
   ]
  },
  {
   "cell_type": "code",
   "execution_count": 5,
   "id": "demonstrated-point",
   "metadata": {},
   "outputs": [
    {
     "data": {
      "text/latex": [
       "$\\displaystyle \\left(x + i y\\right)^{2} + \\left(1 + i\\right) \\left(x + i y\\right) + 6 + 18 i$"
      ],
      "text/plain": [
       "(x + I*y)**2 + (1 + I)*(x + I*y) + 6 + 18*I"
      ]
     },
     "execution_count": 5,
     "metadata": {},
     "output_type": "execute_result"
    }
   ],
   "source": [
    "pol"
   ]
  },
  {
   "cell_type": "code",
   "execution_count": 6,
   "id": "absolute-diving",
   "metadata": {},
   "outputs": [
    {
     "data": {
      "text/plain": [
       "[(-3, 3), (2, -4)]"
      ]
     },
     "execution_count": 6,
     "metadata": {},
     "output_type": "execute_result"
    }
   ],
   "source": [
    "solve (z**2 + (1+I)*z + (6 + 18 * I), (x,y))"
   ]
  },
  {
   "cell_type": "code",
   "execution_count": null,
   "id": "collaborative-latex",
   "metadata": {},
   "outputs": [],
   "source": []
  }
 ],
 "metadata": {
  "kernelspec": {
   "display_name": "Python 3",
   "language": "python",
   "name": "python3"
  },
  "language_info": {
   "codemirror_mode": {
    "name": "ipython",
    "version": 3
   },
   "file_extension": ".py",
   "mimetype": "text/x-python",
   "name": "python",
   "nbconvert_exporter": "python",
   "pygments_lexer": "ipython3",
   "version": "3.7.5"
  }
 },
 "nbformat": 4,
 "nbformat_minor": 5
}
