{
 "cells": [
  {
   "cell_type": "code",
   "execution_count": 1,
   "id": "vertical-wallet",
   "metadata": {},
   "outputs": [],
   "source": [
    "#Golden Gate Bridge: Pfeiler über Strasse 152m hoch, Länge zwischen Pfeilern: 1280, Parabel weil schwere Strasse"
   ]
  },
  {
   "cell_type": "code",
   "execution_count": 1,
   "id": "rapid-phone",
   "metadata": {},
   "outputs": [],
   "source": [
    "from sympy import *\n",
    "t = symbols(\"t\")"
   ]
  },
  {
   "cell_type": "code",
   "execution_count": 2,
   "id": "level-import",
   "metadata": {},
   "outputs": [
    {
     "data": {
      "text/latex": [
       "$\\displaystyle \\frac{19 t^{2}}{51200} - \\frac{19 t}{40} + 152$"
      ],
      "text/plain": [
       "19*t**2/51200 - 19*t/40 + 152"
      ]
     },
     "execution_count": 2,
     "metadata": {},
     "output_type": "execute_result"
    }
   ],
   "source": [
    "p = interpolate([(0,152),(640,0),(1280,152)], t)\n",
    "p"
   ]
  },
  {
   "cell_type": "code",
   "execution_count": 3,
   "id": "prostate-canvas",
   "metadata": {},
   "outputs": [
    {
     "data": {
      "text/latex": [
       "$\\displaystyle \\frac{25600 \\operatorname{asinh}{\\left(\\frac{19}{40} \\right)}}{19} + 16 \\sqrt{1961}$"
      ],
      "text/plain": [
       "25600*asinh(19/40)/19 + 16*sqrt(1961)"
      ]
     },
     "execution_count": 3,
     "metadata": {},
     "output_type": "execute_result"
    }
   ],
   "source": [
    "L = integrate(sqrt(1+diff(p,t)**2), (t,0,1280))\n",
    "L"
   ]
  },
  {
   "cell_type": "code",
   "execution_count": 5,
   "id": "tight-velvet",
   "metadata": {},
   "outputs": [
    {
     "data": {
      "text/latex": [
       "$\\displaystyle 1326.6228193916$"
      ],
      "text/plain": [
       "1326.62281939160"
      ]
     },
     "execution_count": 5,
     "metadata": {},
     "output_type": "execute_result"
    }
   ],
   "source": [
    "N(_)"
   ]
  },
  {
   "cell_type": "code",
   "execution_count": 6,
   "id": "finnish-backup",
   "metadata": {},
   "outputs": [
    {
     "data": {
      "text/latex": [
       "$\\displaystyle \\frac{1}{\\sqrt{t^{2} + 1}}$"
      ],
      "text/plain": [
       "1/sqrt(t**2 + 1)"
      ]
     },
     "execution_count": 6,
     "metadata": {},
     "output_type": "execute_result"
    }
   ],
   "source": [
    "y = diff(asinh(t),t)\n",
    "y"
   ]
  },
  {
   "cell_type": "code",
   "execution_count": 7,
   "id": "julian-ministry",
   "metadata": {},
   "outputs": [
    {
     "data": {
      "text/latex": [
       "$\\displaystyle \\frac{1}{t^{2} + 1}$"
      ],
      "text/plain": [
       "1/(t**2 + 1)"
      ]
     },
     "execution_count": 7,
     "metadata": {},
     "output_type": "execute_result"
    }
   ],
   "source": [
    "y=diff(atan(t),t)\n",
    "y"
   ]
  },
  {
   "cell_type": "code",
   "execution_count": 8,
   "id": "talented-compound",
   "metadata": {},
   "outputs": [],
   "source": [
    "#Ableitungen nur zur Erklärung und Gedächtnisauffrischung"
   ]
  },
  {
   "cell_type": "code",
   "execution_count": 9,
   "id": "ultimate-korea",
   "metadata": {},
   "outputs": [
    {
     "data": {
      "text/latex": [
       "$\\displaystyle \\frac{1}{\\sqrt{t^{2} - 1}}$"
      ],
      "text/plain": [
       "1/sqrt(t**2 - 1)"
      ]
     },
     "execution_count": 9,
     "metadata": {},
     "output_type": "execute_result"
    }
   ],
   "source": [
    "y=diff(acosh(t),t)\n",
    "y"
   ]
  },
  {
   "cell_type": "code",
   "execution_count": 3,
   "id": "documentary-substance",
   "metadata": {},
   "outputs": [
    {
     "data": {
      "text/latex": [
       "$\\displaystyle \\sqrt{t^{2} + 1}$"
      ],
      "text/plain": [
       "sqrt(t**2 + 1)"
      ]
     },
     "execution_count": 3,
     "metadata": {},
     "output_type": "execute_result"
    }
   ],
   "source": [
    "f = sqrt(1+t**2)\n",
    "f"
   ]
  },
  {
   "cell_type": "code",
   "execution_count": 4,
   "id": "comfortable-somewhere",
   "metadata": {},
   "outputs": [],
   "source": [
    "F = integrate(f,t)"
   ]
  },
  {
   "cell_type": "code",
   "execution_count": 5,
   "id": "cooperative-specific",
   "metadata": {},
   "outputs": [
    {
     "data": {
      "text/latex": [
       "$\\displaystyle \\frac{t \\sqrt{t^{2} + 1}}{2} + \\frac{\\operatorname{asinh}{\\left(t \\right)}}{2}$"
      ],
      "text/plain": [
       "t*sqrt(t**2 + 1)/2 + asinh(t)/2"
      ]
     },
     "execution_count": 5,
     "metadata": {},
     "output_type": "execute_result"
    }
   ],
   "source": [
    "F"
   ]
  },
  {
   "cell_type": "code",
   "execution_count": 7,
   "id": "olympic-japanese",
   "metadata": {},
   "outputs": [
    {
     "data": {
      "text/latex": [
       "$\\displaystyle \\frac{t^{2}}{2 \\sqrt{t^{2} + 1}} + \\frac{\\sqrt{t^{2} + 1}}{2}$"
      ],
      "text/plain": [
       "t**2/(2*sqrt(t**2 + 1)) + sqrt(t**2 + 1)/2"
      ]
     },
     "execution_count": 7,
     "metadata": {},
     "output_type": "execute_result"
    }
   ],
   "source": [
    "d1 = diff(t*sqrt(t**2+1)/2,t)\n",
    "d1"
   ]
  },
  {
   "cell_type": "code",
   "execution_count": 8,
   "id": "circular-visiting",
   "metadata": {},
   "outputs": [],
   "source": [
    "d2 = diff(asinh(t)/2,t)"
   ]
  },
  {
   "cell_type": "code",
   "execution_count": 9,
   "id": "informational-leader",
   "metadata": {},
   "outputs": [
    {
     "data": {
      "text/latex": [
       "$\\displaystyle \\frac{1}{2 \\sqrt{t^{2} + 1}}$"
      ],
      "text/plain": [
       "1/(2*sqrt(t**2 + 1))"
      ]
     },
     "execution_count": 9,
     "metadata": {},
     "output_type": "execute_result"
    }
   ],
   "source": [
    "d2"
   ]
  },
  {
   "cell_type": "code",
   "execution_count": 10,
   "id": "clean-maryland",
   "metadata": {},
   "outputs": [
    {
     "data": {
      "text/latex": [
       "$\\displaystyle \\frac{t^{2}}{2 \\sqrt{t^{2} + 1}} + \\frac{\\sqrt{t^{2} + 1}}{2} + \\frac{1}{2 \\sqrt{t^{2} + 1}}$"
      ],
      "text/plain": [
       "t**2/(2*sqrt(t**2 + 1)) + sqrt(t**2 + 1)/2 + 1/(2*sqrt(t**2 + 1))"
      ]
     },
     "execution_count": 10,
     "metadata": {},
     "output_type": "execute_result"
    }
   ],
   "source": [
    "a = d1 + d2\n",
    "a"
   ]
  },
  {
   "cell_type": "code",
   "execution_count": 11,
   "id": "actual-going",
   "metadata": {},
   "outputs": [
    {
     "data": {
      "text/latex": [
       "$\\displaystyle \\frac{t^{2}}{2 \\sqrt{t^{2} + 1}} + \\frac{\\sqrt{t^{2} + 1}}{2} + \\frac{1}{2 \\sqrt{t^{2} + 1}}$"
      ],
      "text/plain": [
       "t**2/(2*sqrt(t**2 + 1)) + sqrt(t**2 + 1)/2 + 1/(2*sqrt(t**2 + 1))"
      ]
     },
     "execution_count": 11,
     "metadata": {},
     "output_type": "execute_result"
    }
   ],
   "source": [
    "sa = simplify(a)\n",
    "a"
   ]
  },
  {
   "cell_type": "code",
   "execution_count": 12,
   "id": "shared-yield",
   "metadata": {},
   "outputs": [
    {
     "data": {
      "text/latex": [
       "$\\displaystyle 2 t^{2} + 2$"
      ],
      "text/plain": [
       "2*t**2 + 2"
      ]
     },
     "execution_count": 12,
     "metadata": {},
     "output_type": "execute_result"
    }
   ],
   "source": [
    "n = t**2 + t**2+1 + 1\n",
    "n"
   ]
  },
  {
   "cell_type": "code",
   "execution_count": 13,
   "id": "devoted-lawrence",
   "metadata": {},
   "outputs": [
    {
     "data": {
      "text/latex": [
       "$\\displaystyle 2 t^{2} + 2$"
      ],
      "text/plain": [
       "2*t**2 + 2"
      ]
     },
     "execution_count": 13,
     "metadata": {},
     "output_type": "execute_result"
    }
   ],
   "source": [
    "z = n\n",
    "z"
   ]
  },
  {
   "cell_type": "code",
   "execution_count": 14,
   "id": "derived-serial",
   "metadata": {},
   "outputs": [
    {
     "data": {
      "text/latex": [
       "$\\displaystyle 2 \\sqrt{t^{2} + 1}$"
      ],
      "text/plain": [
       "2*sqrt(t**2 + 1)"
      ]
     },
     "execution_count": 14,
     "metadata": {},
     "output_type": "execute_result"
    }
   ],
   "source": [
    "n = 2*sqrt(t**2+1)\n",
    "n"
   ]
  },
  {
   "cell_type": "code",
   "execution_count": 15,
   "id": "applied-meaning",
   "metadata": {},
   "outputs": [
    {
     "data": {
      "text/latex": [
       "$\\displaystyle \\sqrt{t^{2} + 1}$"
      ],
      "text/plain": [
       "sqrt(t**2 + 1)"
      ]
     },
     "execution_count": 15,
     "metadata": {},
     "output_type": "execute_result"
    }
   ],
   "source": [
    "b = simplify(z/n)\n",
    "b"
   ]
  },
  {
   "cell_type": "code",
   "execution_count": 16,
   "id": "sporting-diagnosis",
   "metadata": {},
   "outputs": [
    {
     "data": {
      "text/latex": [
       "$\\displaystyle 2 t^{2} + 2$"
      ],
      "text/plain": [
       "2*t**2 + 2"
      ]
     },
     "execution_count": 16,
     "metadata": {},
     "output_type": "execute_result"
    }
   ],
   "source": [
    "z"
   ]
  },
  {
   "cell_type": "code",
   "execution_count": 17,
   "id": "leading-antarctica",
   "metadata": {},
   "outputs": [
    {
     "data": {
      "text/latex": [
       "$\\displaystyle 2 \\sqrt{t^{2} + 1}$"
      ],
      "text/plain": [
       "2*sqrt(t**2 + 1)"
      ]
     },
     "execution_count": 17,
     "metadata": {},
     "output_type": "execute_result"
    }
   ],
   "source": [
    "n"
   ]
  },
  {
   "cell_type": "code",
   "execution_count": 18,
   "id": "minor-doctrine",
   "metadata": {},
   "outputs": [],
   "source": [
    "g = t**2*sqrt(t**2+1)"
   ]
  },
  {
   "cell_type": "code",
   "execution_count": 19,
   "id": "bottom-organ",
   "metadata": {},
   "outputs": [
    {
     "data": {
      "text/latex": [
       "$\\displaystyle t^{2} \\sqrt{t^{2} + 1}$"
      ],
      "text/plain": [
       "t**2*sqrt(t**2 + 1)"
      ]
     },
     "execution_count": 19,
     "metadata": {},
     "output_type": "execute_result"
    }
   ],
   "source": [
    "g"
   ]
  },
  {
   "cell_type": "code",
   "execution_count": 20,
   "id": "novel-checklist",
   "metadata": {},
   "outputs": [
    {
     "data": {
      "text/latex": [
       "$\\displaystyle \\frac{t^{5}}{4 \\sqrt{t^{2} + 1}} + \\frac{3 t^{3}}{8 \\sqrt{t^{2} + 1}} + \\frac{t}{8 \\sqrt{t^{2} + 1}} - \\frac{\\operatorname{asinh}{\\left(t \\right)}}{8}$"
      ],
      "text/plain": [
       "t**5/(4*sqrt(t**2 + 1)) + 3*t**3/(8*sqrt(t**2 + 1)) + t/(8*sqrt(t**2 + 1)) - asinh(t)/8"
      ]
     },
     "execution_count": 20,
     "metadata": {},
     "output_type": "execute_result"
    }
   ],
   "source": [
    "G = integrate(g,t)\n",
    "G"
   ]
  },
  {
   "cell_type": "code",
   "execution_count": 22,
   "id": "mental-alexandria",
   "metadata": {},
   "outputs": [
    {
     "data": {
      "text/latex": [
       "$\\displaystyle \\frac{u}{\\sqrt{u + 1}}$"
      ],
      "text/plain": [
       "u/sqrt(u + 1)"
      ]
     },
     "execution_count": 22,
     "metadata": {},
     "output_type": "execute_result"
    }
   ],
   "source": [
    "u = symbols(\"u\")\n",
    "h = u / sqrt(u+1)\n",
    "h"
   ]
  },
  {
   "cell_type": "code",
   "execution_count": 23,
   "id": "indirect-learning",
   "metadata": {},
   "outputs": [
    {
     "data": {
      "text/latex": [
       "$\\displaystyle \\frac{2 u \\sqrt{u + 1}}{3} - \\frac{4 \\sqrt{u + 1}}{3}$"
      ],
      "text/plain": [
       "2*u*sqrt(u + 1)/3 - 4*sqrt(u + 1)/3"
      ]
     },
     "execution_count": 23,
     "metadata": {},
     "output_type": "execute_result"
    }
   ],
   "source": [
    "H = integrate(h,u)\n",
    "H"
   ]
  },
  {
   "cell_type": "code",
   "execution_count": 24,
   "id": "optional-qatar",
   "metadata": {},
   "outputs": [
    {
     "data": {
      "text/latex": [
       "$\\displaystyle \\frac{1}{\\sqrt{u + 1}}$"
      ],
      "text/plain": [
       "1/sqrt(u + 1)"
      ]
     },
     "execution_count": 24,
     "metadata": {},
     "output_type": "execute_result"
    }
   ],
   "source": [
    "h = 1/sqrt(u+1)\n",
    "h"
   ]
  },
  {
   "cell_type": "code",
   "execution_count": 25,
   "id": "hybrid-width",
   "metadata": {},
   "outputs": [
    {
     "data": {
      "text/latex": [
       "$\\displaystyle 2 \\sqrt{u + 1}$"
      ],
      "text/plain": [
       "2*sqrt(u + 1)"
      ]
     },
     "execution_count": 25,
     "metadata": {},
     "output_type": "execute_result"
    }
   ],
   "source": [
    "H = integrate(h,u)\n",
    "H"
   ]
  },
  {
   "cell_type": "code",
   "execution_count": 26,
   "id": "rational-bearing",
   "metadata": {},
   "outputs": [
    {
     "data": {
      "text/latex": [
       "$\\displaystyle t \\sqrt{t^{2} + 1} - \\operatorname{asinh}{\\left(t \\right)}$"
      ],
      "text/plain": [
       "t*sqrt(t**2 + 1) - asinh(t)"
      ]
     },
     "execution_count": 26,
     "metadata": {},
     "output_type": "execute_result"
    }
   ],
   "source": [
    "X = integrate(2*t**2/sqrt(t**2+1),t)\n",
    "X"
   ]
  },
  {
   "cell_type": "code",
   "execution_count": 27,
   "id": "above-fifth",
   "metadata": {},
   "outputs": [
    {
     "data": {
      "text/latex": [
       "$\\displaystyle \\frac{2 t}{\\sqrt{t^{2} + 1}}$"
      ],
      "text/plain": [
       "2*t/sqrt(t**2 + 1)"
      ]
     },
     "execution_count": 27,
     "metadata": {},
     "output_type": "execute_result"
    }
   ],
   "source": [
    "x = 2*t/sqrt(t**2+1)\n",
    "x"
   ]
  },
  {
   "cell_type": "code",
   "execution_count": 28,
   "id": "grand-merchant",
   "metadata": {},
   "outputs": [
    {
     "data": {
      "text/latex": [
       "$\\displaystyle 2 \\sqrt{t^{2} + 1}$"
      ],
      "text/plain": [
       "2*sqrt(t**2 + 1)"
      ]
     },
     "execution_count": 28,
     "metadata": {},
     "output_type": "execute_result"
    }
   ],
   "source": [
    "X = integrate(x,t)\n",
    "X"
   ]
  },
  {
   "cell_type": "code",
   "execution_count": 29,
   "id": "leading-indication",
   "metadata": {},
   "outputs": [
    {
     "data": {
      "text/latex": [
       "$\\displaystyle \\frac{t}{\\sqrt{t^{2} + 1}}$"
      ],
      "text/plain": [
       "t/sqrt(t**2 + 1)"
      ]
     },
     "execution_count": 29,
     "metadata": {},
     "output_type": "execute_result"
    }
   ],
   "source": [
    "x=t/sqrt(t**2+1)\n",
    "x"
   ]
  },
  {
   "cell_type": "code",
   "execution_count": 30,
   "id": "challenging-bobby",
   "metadata": {},
   "outputs": [
    {
     "data": {
      "text/latex": [
       "$\\displaystyle \\sqrt{t^{2} + 1}$"
      ],
      "text/plain": [
       "sqrt(t**2 + 1)"
      ]
     },
     "execution_count": 30,
     "metadata": {},
     "output_type": "execute_result"
    }
   ],
   "source": [
    "X = integrate (x,t)\n",
    "X"
   ]
  },
  {
   "cell_type": "code",
   "execution_count": 31,
   "id": "separate-james",
   "metadata": {},
   "outputs": [
    {
     "data": {
      "text/latex": [
       "$\\displaystyle \\sqrt{t^{2} + 1}$"
      ],
      "text/plain": [
       "sqrt(t**2 + 1)"
      ]
     },
     "execution_count": 31,
     "metadata": {},
     "output_type": "execute_result"
    }
   ],
   "source": [
    "f"
   ]
  },
  {
   "cell_type": "code",
   "execution_count": null,
   "id": "collectible-socket",
   "metadata": {},
   "outputs": [],
   "source": []
  }
 ],
 "metadata": {
  "kernelspec": {
   "display_name": "Python 3",
   "language": "python",
   "name": "python3"
  },
  "language_info": {
   "codemirror_mode": {
    "name": "ipython",
    "version": 3
   },
   "file_extension": ".py",
   "mimetype": "text/x-python",
   "name": "python",
   "nbconvert_exporter": "python",
   "pygments_lexer": "ipython3",
   "version": "3.7.5"
  }
 },
 "nbformat": 4,
 "nbformat_minor": 5
}
