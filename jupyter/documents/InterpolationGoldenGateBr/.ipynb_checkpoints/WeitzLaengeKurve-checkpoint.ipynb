{
 "cells": [
  {
   "cell_type": "code",
   "execution_count": 1,
   "id": "vertical-wallet",
   "metadata": {},
   "outputs": [],
   "source": [
    "#Golden Gate Bridge: Pfeiler über Strasse 152m hoch, Länge zwischen Pfeilern: 1280, Parabel weil schwere Strasse"
   ]
  },
  {
   "cell_type": "code",
   "execution_count": 2,
   "id": "rapid-phone",
   "metadata": {},
   "outputs": [],
   "source": [
    "from sympy import *\n",
    "t = symbols(\"t\")"
   ]
  },
  {
   "cell_type": "code",
   "execution_count": 3,
   "id": "level-import",
   "metadata": {},
   "outputs": [
    {
     "data": {
      "text/latex": [
       "$\\displaystyle \\frac{19 t^{2}}{51200} - \\frac{19 t}{40} + 152$"
      ],
      "text/plain": [
       "19*t**2/51200 - 19*t/40 + 152"
      ]
     },
     "execution_count": 3,
     "metadata": {},
     "output_type": "execute_result"
    }
   ],
   "source": [
    "p = interpolate([(0,152),(640,0),(1280,152)], t)\n",
    "p"
   ]
  },
  {
   "cell_type": "code",
   "execution_count": 4,
   "id": "prostate-canvas",
   "metadata": {},
   "outputs": [
    {
     "data": {
      "text/latex": [
       "$\\displaystyle \\frac{25600 \\operatorname{asinh}{\\left(\\frac{19}{40} \\right)}}{19} + 16 \\sqrt{1961}$"
      ],
      "text/plain": [
       "25600*asinh(19/40)/19 + 16*sqrt(1961)"
      ]
     },
     "execution_count": 4,
     "metadata": {},
     "output_type": "execute_result"
    }
   ],
   "source": [
    "L = integrate(sqrt(1+diff(p,t)**2), (t,0,1280))\n",
    "L"
   ]
  },
  {
   "cell_type": "code",
   "execution_count": 5,
   "id": "tight-velvet",
   "metadata": {},
   "outputs": [
    {
     "data": {
      "text/latex": [
       "$\\displaystyle 1326.6228193916$"
      ],
      "text/plain": [
       "1326.62281939160"
      ]
     },
     "execution_count": 5,
     "metadata": {},
     "output_type": "execute_result"
    }
   ],
   "source": [
    "N(_)"
   ]
  },
  {
   "cell_type": "code",
   "execution_count": 6,
   "id": "finnish-backup",
   "metadata": {},
   "outputs": [
    {
     "data": {
      "text/latex": [
       "$\\displaystyle \\frac{1}{\\sqrt{t^{2} + 1}}$"
      ],
      "text/plain": [
       "1/sqrt(t**2 + 1)"
      ]
     },
     "execution_count": 6,
     "metadata": {},
     "output_type": "execute_result"
    }
   ],
   "source": [
    "y = diff(asinh(t),t)\n",
    "y"
   ]
  },
  {
   "cell_type": "code",
   "execution_count": 7,
   "id": "julian-ministry",
   "metadata": {},
   "outputs": [
    {
     "data": {
      "text/latex": [
       "$\\displaystyle \\frac{1}{t^{2} + 1}$"
      ],
      "text/plain": [
       "1/(t**2 + 1)"
      ]
     },
     "execution_count": 7,
     "metadata": {},
     "output_type": "execute_result"
    }
   ],
   "source": [
    "y=diff(atan(t),t)\n",
    "y"
   ]
  },
  {
   "cell_type": "code",
   "execution_count": 8,
   "id": "talented-compound",
   "metadata": {},
   "outputs": [],
   "source": [
    "#Ableitungen nur zur Erklärung und Gedächtnisauffrischung"
   ]
  },
  {
   "cell_type": "code",
   "execution_count": 9,
   "id": "ultimate-korea",
   "metadata": {},
   "outputs": [
    {
     "data": {
      "text/latex": [
       "$\\displaystyle \\frac{1}{\\sqrt{t^{2} - 1}}$"
      ],
      "text/plain": [
       "1/sqrt(t**2 - 1)"
      ]
     },
     "execution_count": 9,
     "metadata": {},
     "output_type": "execute_result"
    }
   ],
   "source": [
    "y=diff(acosh(t),t)\n",
    "y"
   ]
  },
  {
   "cell_type": "code",
   "execution_count": null,
   "id": "documentary-substance",
   "metadata": {},
   "outputs": [],
   "source": []
  }
 ],
 "metadata": {
  "kernelspec": {
   "display_name": "Python 3",
   "language": "python",
   "name": "python3"
  },
  "language_info": {
   "codemirror_mode": {
    "name": "ipython",
    "version": 3
   },
   "file_extension": ".py",
   "mimetype": "text/x-python",
   "name": "python",
   "nbconvert_exporter": "python",
   "pygments_lexer": "ipython3",
   "version": "3.7.5"
  }
 },
 "nbformat": 4,
 "nbformat_minor": 5
}
