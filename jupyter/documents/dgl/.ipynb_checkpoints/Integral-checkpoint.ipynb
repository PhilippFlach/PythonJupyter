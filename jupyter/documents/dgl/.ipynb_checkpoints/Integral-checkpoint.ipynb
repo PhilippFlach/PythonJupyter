{
 "cells": [
  {
   "cell_type": "code",
   "execution_count": 1,
   "id": "cloudy-choir",
   "metadata": {},
   "outputs": [],
   "source": [
    "from sympy import *"
   ]
  },
  {
   "cell_type": "code",
   "execution_count": 2,
   "id": "endangered-philosophy",
   "metadata": {},
   "outputs": [],
   "source": [
    "x, y, z, t = symbols('x y z t')"
   ]
  },
  {
   "cell_type": "code",
   "execution_count": 3,
   "id": "editorial-ratio",
   "metadata": {},
   "outputs": [
    {
     "data": {
      "text/latex": [
       "$\\displaystyle \\int \\sqrt{\\frac{1}{x}}\\, dx$"
      ],
      "text/plain": [
       "Integral(sqrt(1/x), x)"
      ]
     },
     "execution_count": 3,
     "metadata": {},
     "output_type": "execute_result"
    }
   ],
   "source": [
    "Integral(sqrt(1/x), x)"
   ]
  },
  {
   "cell_type": "code",
   "execution_count": 4,
   "id": "nuclear-postcard",
   "metadata": {},
   "outputs": [
    {
     "data": {
      "text/latex": [
       "$\\displaystyle 2 x \\sqrt{\\frac{1}{x}}$"
      ],
      "text/plain": [
       "2*x*sqrt(1/x)"
      ]
     },
     "execution_count": 4,
     "metadata": {},
     "output_type": "execute_result"
    }
   ],
   "source": [
    "integrate(sqrt(1/x), x)"
   ]
  },
  {
   "cell_type": "code",
   "execution_count": null,
   "id": "oriental-celtic",
   "metadata": {},
   "outputs": [],
   "source": []
  }
 ],
 "metadata": {
  "kernelspec": {
   "display_name": "Python 3",
   "language": "python",
   "name": "python3"
  },
  "language_info": {
   "codemirror_mode": {
    "name": "ipython",
    "version": 3
   },
   "file_extension": ".py",
   "mimetype": "text/x-python",
   "name": "python",
   "nbconvert_exporter": "python",
   "pygments_lexer": "ipython3",
   "version": "3.7.5"
  }
 },
 "nbformat": 4,
 "nbformat_minor": 5
}
