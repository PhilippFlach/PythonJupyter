{
 "cells": [
  {
   "cell_type": "code",
   "execution_count": null,
   "id": "divine-rebate",
   "metadata": {},
   "outputs": [],
   "source": [
    "# Löse Differentialgleichung y' = -sin(x) mit Anfangswert (x,y) = (0,1)\n",
    "# Die exakte Lösung ist y = cos(x)"
   ]
  },
  {
   "cell_type": "code",
   "execution_count": 1,
   "id": "portable-found",
   "metadata": {},
   "outputs": [],
   "source": [
    "def euler (f, x0, y0, h, n):\n",
    "    x = x0\n",
    "    y = y0\n",
    "    result = [(x,y)]\n",
    "    for i in range(n):\n",
    "        x += h\n",
    "        y += h * f(x, y)\n",
    "        result.append((x,y))\n",
    "    return result"
   ]
  },
  {
   "cell_type": "code",
   "execution_count": 2,
   "id": "clean-jacket",
   "metadata": {},
   "outputs": [],
   "source": [
    "from math import sin, cos"
   ]
  },
  {
   "cell_type": "code",
   "execution_count": 3,
   "id": "hairy-headline",
   "metadata": {},
   "outputs": [
    {
     "data": {
      "text/plain": [
       "[(0, 1),\n",
       " (0.4, 0.8442326630765398),\n",
       " (0.8, 0.5572902267167306),\n",
       " (1.2000000000000002, 0.18447459232983998),\n",
       " (1.6, -0.2153548488867621),\n",
       " (2.0, -0.5790738196170349),\n",
       " (2.4, -0.8492590918374953),\n",
       " (2.8, -0.9832543518998573),\n",
       " (3.1999999999999997, -0.9599046945288254),\n",
       " (3.5999999999999996, -0.7828965172108846),\n",
       " (3.9999999999999996, -0.4801755190877134)]"
      ]
     },
     "execution_count": 3,
     "metadata": {},
     "output_type": "execute_result"
    }
   ],
   "source": [
    "P = euler(lambda x, y: -sin(x), 0, 1, 0.4, 10)\n",
    "P"
   ]
  },
  {
   "cell_type": "code",
   "execution_count": 9,
   "id": "cellular-roller",
   "metadata": {},
   "outputs": [],
   "source": [
    "import matplotlib.pyplot as plt"
   ]
  },
  {
   "cell_type": "code",
   "execution_count": null,
   "id": "mighty-lucas",
   "metadata": {},
   "outputs": [],
   "source": [
    "fix, ax = plt.subplot()\n",
    "ax.plot(t, s)"
   ]
  }
 ],
 "metadata": {
  "kernelspec": {
   "display_name": "Python 3",
   "language": "python",
   "name": "python3"
  },
  "language_info": {
   "codemirror_mode": {
    "name": "ipython",
    "version": 3
   },
   "file_extension": ".py",
   "mimetype": "text/x-python",
   "name": "python",
   "nbconvert_exporter": "python",
   "pygments_lexer": "ipython3",
   "version": "3.7.5"
  }
 },
 "nbformat": 4,
 "nbformat_minor": 5
}
