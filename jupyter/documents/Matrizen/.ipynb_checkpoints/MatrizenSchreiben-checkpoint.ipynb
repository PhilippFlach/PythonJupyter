{
 "cells": [
  {
   "cell_type": "code",
   "execution_count": 9,
   "id": "planned-spectrum",
   "metadata": {},
   "outputs": [],
   "source": [
    "x = symbols (\"x\")"
   ]
  },
  {
   "cell_type": "code",
   "execution_count": 1,
   "id": "integrated-trainer",
   "metadata": {},
   "outputs": [],
   "source": [
    "c = [-1, 4]"
   ]
  },
  {
   "cell_type": "code",
   "execution_count": 2,
   "id": "packed-fantasy",
   "metadata": {},
   "outputs": [
    {
     "data": {
      "text/plain": [
       "[-1, 4]"
      ]
     },
     "execution_count": 2,
     "metadata": {},
     "output_type": "execute_result"
    }
   ],
   "source": [
    "c"
   ]
  },
  {
   "cell_type": "code",
   "execution_count": 3,
   "id": "likely-workshop",
   "metadata": {},
   "outputs": [],
   "source": [
    "A = [[-3, 1], [1, 2]]"
   ]
  },
  {
   "cell_type": "code",
   "execution_count": 4,
   "id": "private-extreme",
   "metadata": {},
   "outputs": [
    {
     "data": {
      "text/plain": [
       "[[-3, 1], [1, 2]]"
      ]
     },
     "execution_count": 4,
     "metadata": {},
     "output_type": "execute_result"
    }
   ],
   "source": [
    "A"
   ]
  },
  {
   "cell_type": "code",
   "execution_count": 6,
   "id": "interested-testing",
   "metadata": {},
   "outputs": [],
   "source": [
    "from sympy import *"
   ]
  },
  {
   "cell_type": "code",
   "execution_count": 7,
   "id": "dominant-financing",
   "metadata": {},
   "outputs": [
    {
     "data": {
      "text/plain": [
       "[-1, 4]"
      ]
     },
     "execution_count": 7,
     "metadata": {},
     "output_type": "execute_result"
    }
   ],
   "source": [
    "c"
   ]
  },
  {
   "cell_type": "code",
   "execution_count": 10,
   "id": "tribal-giving",
   "metadata": {},
   "outputs": [],
   "source": [
    "poly = x**2"
   ]
  },
  {
   "cell_type": "code",
   "execution_count": 11,
   "id": "surprising-bailey",
   "metadata": {},
   "outputs": [
    {
     "data": {
      "text/latex": [
       "$\\displaystyle x^{2}$"
      ],
      "text/plain": [
       "x**2"
      ]
     },
     "execution_count": 11,
     "metadata": {},
     "output_type": "execute_result"
    }
   ],
   "source": [
    "poly"
   ]
  },
  {
   "cell_type": "code",
   "execution_count": 12,
   "id": "alleged-disclaimer",
   "metadata": {},
   "outputs": [
    {
     "data": {
      "text/latex": [
       "$\\displaystyle \\left[\\begin{matrix}-3 & 1\\\\1 & 2\\end{matrix}\\right]$"
      ],
      "text/plain": [
       "Matrix([\n",
       "[-3, 1],\n",
       "[ 1, 2]])"
      ]
     },
     "execution_count": 12,
     "metadata": {},
     "output_type": "execute_result"
    }
   ],
   "source": [
    "Matrix(A)"
   ]
  },
  {
   "cell_type": "code",
   "execution_count": 14,
   "id": "isolated-scoop",
   "metadata": {},
   "outputs": [
    {
     "data": {
      "text/latex": [
       "$\\displaystyle \\left[\\begin{matrix}-1\\\\4\\end{matrix}\\right]$"
      ],
      "text/plain": [
       "Matrix([\n",
       "[-1],\n",
       "[ 4]])"
      ]
     },
     "execution_count": 14,
     "metadata": {},
     "output_type": "execute_result"
    }
   ],
   "source": [
    "Matrix(c)"
   ]
  },
  {
   "cell_type": "code",
   "execution_count": 15,
   "id": "appropriate-folder",
   "metadata": {},
   "outputs": [],
   "source": [
    "b = [6, 4]"
   ]
  },
  {
   "cell_type": "code",
   "execution_count": null,
   "id": "ignored-clark",
   "metadata": {},
   "outputs": [],
   "source": []
  }
 ],
 "metadata": {
  "kernelspec": {
   "display_name": "Python 3",
   "language": "python",
   "name": "python3"
  },
  "language_info": {
   "codemirror_mode": {
    "name": "ipython",
    "version": 3
   },
   "file_extension": ".py",
   "mimetype": "text/x-python",
   "name": "python",
   "nbconvert_exporter": "python",
   "pygments_lexer": "ipython3",
   "version": "3.7.5"
  }
 },
 "nbformat": 4,
 "nbformat_minor": 5
}
