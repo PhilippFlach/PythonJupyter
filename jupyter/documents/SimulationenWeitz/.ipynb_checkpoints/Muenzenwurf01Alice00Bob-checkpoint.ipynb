{
 "cells": [
  {
   "cell_type": "code",
   "execution_count": 1,
   "id": "intelligent-float",
   "metadata": {},
   "outputs": [],
   "source": [
    "# Werfe Münze (0,1) Simulation wie viele Würfe es im Mittel dauert, bis \n",
    "# Alice die Sequenz 0,1 und Bob die Sequenz 0,0"
   ]
  },
  {
   "cell_type": "code",
   "execution_count": 2,
   "id": "friendly-elimination",
   "metadata": {},
   "outputs": [],
   "source": [
    "# Quelle: Weitz, Video: https://www.youtube.com/watch?v=rX4wAfiKOms"
   ]
  },
  {
   "cell_type": "code",
   "execution_count": 3,
   "id": "excited-european",
   "metadata": {},
   "outputs": [],
   "source": [
    "from random import *"
   ]
  },
  {
   "cell_type": "code",
   "execution_count": 4,
   "id": "duplicate-group",
   "metadata": {},
   "outputs": [],
   "source": [
    "def tries (a, b):\n",
    "    # Versuche durchfuehren mit: a ist die erste, b die zweite zahl, \n",
    "    # d.h. bei Alice ist a=0, b= 1 und bei Bob ist a=0 und b= 0\n",
    "    # Initialisierung\n",
    "    # Mindestens 2 Mal muss geworfen werden, da ja die Sequenz 2 Elemente hat    \n",
    "    count = 2\n",
    "    # prev = der vorangegangene Wurf, kann zufällig 0 oder 1 sein\n",
    "    prev = randrange(2)\n",
    "    while True:\n",
    "        curr = randrange(2)\n",
    "        # Abbruchkriterium der Endlosschlaufe\n",
    "        if prev == a and curr == b:\n",
    "            return count\n",
    "        # Falls gesuchte Sequenz nicht eingetroffen weiter probieren\n",
    "        count = count + 1\n",
    "        prev = curr\n",
    "    "
   ]
  },
  {
   "cell_type": "code",
   "execution_count": 5,
   "id": "coordinate-tutorial",
   "metadata": {},
   "outputs": [],
   "source": [
    "def MittelwertBerechnen (a, b, n):\n",
    "    # n = Anzahl durchgeführte Simulationen\n",
    "    # Mittelwert = SummeDerVersuche / n\n",
    "    return sum(tries(a, b) for k in range(n)) / n   "
   ]
  },
  {
   "cell_type": "code",
   "execution_count": 6,
   "id": "electronic-reasoning",
   "metadata": {},
   "outputs": [
    {
     "data": {
      "text/plain": [
       "3.999908"
      ]
     },
     "execution_count": 6,
     "metadata": {},
     "output_type": "execute_result"
    }
   ],
   "source": [
    "# 1 Mio. Simulation für Alice mit Sequenz 0,1 \n",
    "alice = MittelwertBerechnen (0, 1, 10**6)\n",
    "alice"
   ]
  },
  {
   "cell_type": "code",
   "execution_count": 7,
   "id": "agricultural-camcorder",
   "metadata": {},
   "outputs": [
    {
     "data": {
      "text/plain": [
       "6.003526"
      ]
     },
     "execution_count": 7,
     "metadata": {},
     "output_type": "execute_result"
    }
   ],
   "source": [
    "# 1 Mio. Simulation für Bob mit Sequenz 0,0 \n",
    "bob = MittelwertBerechnen (0, 0, 10**6)\n",
    "bob"
   ]
  },
  {
   "cell_type": "code",
   "execution_count": 8,
   "id": "complex-harrison",
   "metadata": {},
   "outputs": [],
   "source": [
    "# Exakte Lösung wäre 4 Würfe für Alice und 6 Würfe für Bob notwendig"
   ]
  }
 ],
 "metadata": {
  "kernelspec": {
   "display_name": "Python 3",
   "language": "python",
   "name": "python3"
  },
  "language_info": {
   "codemirror_mode": {
    "name": "ipython",
    "version": 3
   },
   "file_extension": ".py",
   "mimetype": "text/x-python",
   "name": "python",
   "nbconvert_exporter": "python",
   "pygments_lexer": "ipython3",
   "version": "3.7.5"
  }
 },
 "nbformat": 4,
 "nbformat_minor": 5
}
