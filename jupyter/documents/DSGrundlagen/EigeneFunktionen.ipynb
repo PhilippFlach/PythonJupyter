{
 "cells": [
  {
   "cell_type": "code",
   "execution_count": 4,
   "id": "4716d574",
   "metadata": {},
   "outputs": [],
   "source": [
    "def subtract(a=0, b=0):\n",
    "    return a - b"
   ]
  },
  {
   "cell_type": "code",
   "execution_count": 5,
   "id": "3f2bd0f3",
   "metadata": {},
   "outputs": [
    {
     "data": {
      "text/plain": [
       "5"
      ]
     },
     "execution_count": 5,
     "metadata": {},
     "output_type": "execute_result"
    }
   ],
   "source": [
    "subtract(10, 5)"
   ]
  },
  {
   "cell_type": "code",
   "execution_count": 6,
   "id": "59e48d73",
   "metadata": {},
   "outputs": [
    {
     "data": {
      "text/plain": [
       "-5"
      ]
     },
     "execution_count": 6,
     "metadata": {},
     "output_type": "execute_result"
    }
   ],
   "source": [
    "subtract(0, 5)"
   ]
  },
  {
   "cell_type": "code",
   "execution_count": 7,
   "id": "58de6e03",
   "metadata": {},
   "outputs": [
    {
     "data": {
      "text/plain": [
       "-5"
      ]
     },
     "execution_count": 7,
     "metadata": {},
     "output_type": "execute_result"
    }
   ],
   "source": [
    "subtract(b=5)"
   ]
  },
  {
   "cell_type": "code",
   "execution_count": null,
   "id": "69fc24f7",
   "metadata": {},
   "outputs": [],
   "source": []
  }
 ],
 "metadata": {
  "kernelspec": {
   "display_name": "Python 3",
   "language": "python",
   "name": "python3"
  },
  "language_info": {
   "codemirror_mode": {
    "name": "ipython",
    "version": 3
   },
   "file_extension": ".py",
   "mimetype": "text/x-python",
   "name": "python",
   "nbconvert_exporter": "python",
   "pygments_lexer": "ipython3",
   "version": "3.6.13"
  }
 },
 "nbformat": 4,
 "nbformat_minor": 5
}
