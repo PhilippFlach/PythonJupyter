{
 "cells": [
  {
   "cell_type": "code",
   "execution_count": 4,
   "id": "broke-spirituality",
   "metadata": {},
   "outputs": [],
   "source": [
    "from collections import Counter"
   ]
  },
  {
   "cell_type": "code",
   "execution_count": 5,
   "id": "strange-output",
   "metadata": {},
   "outputs": [],
   "source": [
    "#Beispiel eines Arrays, in dem man die Häufigkeit der Elemente auswählen möchte\n",
    "arrayToCountElements = [0, 0, 0, 1, 1, 4, 4, 4, 4, 4, 4, 5, 7, 7, 7]"
   ]
  },
  {
   "cell_type": "code",
   "execution_count": 7,
   "id": "uniform-murder",
   "metadata": {},
   "outputs": [
    {
     "data": {
      "text/plain": [
       "Counter({0: 3, 1: 2, 4: 6, 5: 1, 7: 3})"
      ]
     },
     "execution_count": 7,
     "metadata": {},
     "output_type": "execute_result"
    }
   ],
   "source": [
    "Element_counts = Counter(arrayToCountElements)\n",
    "Element_counts"
   ]
  },
  {
   "cell_type": "code",
   "execution_count": 8,
   "id": "arranged-snapshot",
   "metadata": {},
   "outputs": [
    {
     "ename": "SyntaxError",
     "evalue": "Missing parentheses in call to 'print'. Did you mean print(element, count)? (<ipython-input-8-e71da2d33472>, line 2)",
     "output_type": "error",
     "traceback": [
      "\u001b[1;36m  File \u001b[1;32m\"<ipython-input-8-e71da2d33472>\"\u001b[1;36m, line \u001b[1;32m2\u001b[0m\n\u001b[1;33m    print element, count\u001b[0m\n\u001b[1;37m                ^\u001b[0m\n\u001b[1;31mSyntaxError\u001b[0m\u001b[1;31m:\u001b[0m Missing parentheses in call to 'print'. Did you mean print(element, count)?\n"
     ]
    }
   ],
   "source": [
    "for element, count in Element_counts.most_common(3):\n",
    "    print element, count"
   ]
  },
  {
   "cell_type": "code",
   "execution_count": null,
   "id": "proof-brief",
   "metadata": {},
   "outputs": [],
   "source": []
  }
 ],
 "metadata": {
  "kernelspec": {
   "display_name": "Python 3",
   "language": "python",
   "name": "python3"
  },
  "language_info": {
   "codemirror_mode": {
    "name": "ipython",
    "version": 3
   },
   "file_extension": ".py",
   "mimetype": "text/x-python",
   "name": "python",
   "nbconvert_exporter": "python",
   "pygments_lexer": "ipython3",
   "version": "3.7.5"
  }
 },
 "nbformat": 4,
 "nbformat_minor": 5
}
