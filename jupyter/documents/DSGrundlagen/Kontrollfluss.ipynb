{
 "cells": [
  {
   "cell_type": "code",
   "execution_count": 4,
   "id": "abcd659c",
   "metadata": {},
   "outputs": [
    {
     "data": {
      "text/plain": [
       "'wenn alles nicht geht'"
      ]
     },
     "execution_count": 4,
     "metadata": {},
     "output_type": "execute_result"
    }
   ],
   "source": [
    "x = 1\n",
    "if x > 2:\n",
    "    message = \"1 grösser als 2\"\n",
    "elif x > 3:\n",
    "    message = \"else if = elif\"\n",
    "else:\n",
    "    message = \"wenn alles nicht geht\"\n",
    "message"
   ]
  },
  {
   "cell_type": "code",
   "execution_count": 5,
   "id": "f4016669",
   "metadata": {},
   "outputs": [
    {
     "data": {
      "text/plain": [
       "'wenn alles nicht geht, Runde 0, Runde 1, Runde 2, Runde 3, Runde 4, Runde 5, Runde 6, Runde 7, Runde 8, Runde 9'"
      ]
     },
     "execution_count": 5,
     "metadata": {},
     "output_type": "execute_result"
    }
   ],
   "source": [
    "y = 0\n",
    "while y < 10:\n",
    "    message +=\", Runde \" + str(y)\n",
    "    y+= 1\n",
    "message"
   ]
  },
  {
   "cell_type": "code",
   "execution_count": 7,
   "id": "4c9b58ad",
   "metadata": {},
   "outputs": [
    {
     "data": {
      "text/plain": [
       "'For-Loop, Runde 0, Runde 1, Runde 2, Runde 3, Runde 4, Runde 5, Runde 6, Runde 7, Runde 8, Runde 9'"
      ]
     },
     "execution_count": 7,
     "metadata": {},
     "output_type": "execute_result"
    }
   ],
   "source": [
    "message2 = \"For-Loop\"\n",
    "for i in range(10):\n",
    "    message2 += \", Runde \" + str(i)\n",
    "message2"
   ]
  },
  {
   "cell_type": "code",
   "execution_count": 9,
   "id": "9535f49f",
   "metadata": {},
   "outputs": [
    {
     "name": "stdout",
     "output_type": "stream",
     "text": [
      "0\n",
      "1\n",
      "2\n",
      "4\n",
      "5\n",
      "6\n"
     ]
    }
   ],
   "source": [
    "for j in range(10):\n",
    "    if j == 3:\n",
    "        continue # springe sofort zur nächsten iteration\n",
    "    if j == 7:\n",
    "        break\n",
    "    print(j)\n"
   ]
  },
  {
   "cell_type": "code",
   "execution_count": null,
   "id": "5b6c6e9b",
   "metadata": {},
   "outputs": [],
   "source": []
  }
 ],
 "metadata": {
  "kernelspec": {
   "display_name": "Python 3",
   "language": "python",
   "name": "python3"
  },
  "language_info": {
   "codemirror_mode": {
    "name": "ipython",
    "version": 3
   },
   "file_extension": ".py",
   "mimetype": "text/x-python",
   "name": "python",
   "nbconvert_exporter": "python",
   "pygments_lexer": "ipython3",
   "version": "3.6.13"
  }
 },
 "nbformat": 4,
 "nbformat_minor": 5
}
