{
 "cells": [
  {
   "cell_type": "code",
   "execution_count": 1,
   "id": "happy-location",
   "metadata": {},
   "outputs": [],
   "source": [
    "import json"
   ]
  },
  {
   "cell_type": "code",
   "execution_count": 2,
   "id": "white-central",
   "metadata": {},
   "outputs": [
    {
     "data": {
      "text/plain": [
       "'{ \"title\" : \"Data Science Book\",\\n\"author\" : \"Joel Grus\",\\n\"publicationYear\" : 2014,\\n\"topics\" : [\"data\", \"science\", \"data science\"]}'"
      ]
     },
     "execution_count": 2,
     "metadata": {},
     "output_type": "execute_result"
    }
   ],
   "source": [
    "serialized = \"\"\"{ \"title\" : \"Data Science Book\",\n",
    "\"author\" : \"Joel Grus\",\n",
    "\"publicationYear\" : 2014,\n",
    "\"topics\" : [\"data\", \"science\", \"data science\"]}\"\"\"\n",
    "serialized"
   ]
  },
  {
   "cell_type": "code",
   "execution_count": 3,
   "id": "related-fleet",
   "metadata": {},
   "outputs": [
    {
     "data": {
      "text/plain": [
       "{'title': 'Data Science Book',\n",
       " 'author': 'Joel Grus',\n",
       " 'publicationYear': 2014,\n",
       " 'topics': ['data', 'science', 'data science']}"
      ]
     },
     "execution_count": 3,
     "metadata": {},
     "output_type": "execute_result"
    }
   ],
   "source": [
    "# parse JSON und erhalte ein Python dict\n",
    "deserialized = json.loads(serialized)\n",
    "deserialized"
   ]
  },
  {
   "cell_type": "code",
   "execution_count": 4,
   "id": "addressed-picking",
   "metadata": {},
   "outputs": [
    {
     "data": {
      "text/plain": [
       "'found data science'"
      ]
     },
     "execution_count": 4,
     "metadata": {},
     "output_type": "execute_result"
    }
   ],
   "source": [
    "tempvar = \"initial\"\n",
    "if \"data science\" in deserialized[\"topics\"]:\n",
    "    tempvar = \"found data science\"\n",
    "tempvar"
   ]
  },
  {
   "cell_type": "code",
   "execution_count": null,
   "id": "documented-prophet",
   "metadata": {},
   "outputs": [],
   "source": []
  }
 ],
 "metadata": {
  "kernelspec": {
   "display_name": "Python 3",
   "language": "python",
   "name": "python3"
  },
  "language_info": {
   "codemirror_mode": {
    "name": "ipython",
    "version": 3
   },
   "file_extension": ".py",
   "mimetype": "text/x-python",
   "name": "python",
   "nbconvert_exporter": "python",
   "pygments_lexer": "ipython3",
   "version": "3.7.5"
  }
 },
 "nbformat": 4,
 "nbformat_minor": 5
}
